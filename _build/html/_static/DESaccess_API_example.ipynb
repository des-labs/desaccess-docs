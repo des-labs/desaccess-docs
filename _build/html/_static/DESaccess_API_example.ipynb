{
 "cells": [
  {
   "cell_type": "code",
   "execution_count": 1,
   "metadata": {},
   "outputs": [],
   "source": [
    "import os\n",
    "import sys\n",
    "import requests\n",
    "import time\n",
    "import json\n",
    "import getpass"
   ]
  },
  {
   "cell_type": "markdown",
   "metadata": {},
   "source": [
    "## Input user credentials and configuration"
   ]
  },
  {
   "cell_type": "code",
   "execution_count": 2,
   "metadata": {},
   "outputs": [
    {
     "name": "stdout",
     "output_type": "stream",
     "text": [
      "········\n"
     ]
    }
   ],
   "source": [
    "username = getpass.getpass()"
   ]
  },
  {
   "cell_type": "code",
   "execution_count": 3,
   "metadata": {},
   "outputs": [
    {
     "name": "stdout",
     "output_type": "stream",
     "text": [
      "········\n"
     ]
    }
   ],
   "source": [
    "password = getpass.getpass()"
   ]
  },
  {
   "cell_type": "code",
   "execution_count": 4,
   "metadata": {},
   "outputs": [],
   "source": [
    "config = {\n",
    "    'auth_token': '',\n",
    "    'apiBaseUrl': 'https://des.ncsa.illinois.edu/desaccess/api',\n",
    "    'filesBaseUrl': 'https://des.ncsa.illinois.edu/files-desaccess',\n",
    "    'username': username,\n",
    "    'password': password,\n",
    "    'database': 'desdr',\n",
    "    'release': 'DR1',\n",
    "}"
   ]
  },
  {
   "cell_type": "markdown",
   "metadata": {},
   "source": [
    "## Define API wrapper functions"
   ]
  },
  {
   "cell_type": "markdown",
   "metadata": {},
   "source": [
    "### Define login function"
   ]
  },
  {
   "cell_type": "code",
   "execution_count": 5,
   "metadata": {},
   "outputs": [],
   "source": [
    "def login():\n",
    "    \"\"\"Obtains an auth token using the username and password credentials for a given database.\n",
    "    \"\"\"\n",
    "    # Login to obtain an auth token\n",
    "    r = requests.post(\n",
    "        '{}/login'.format(config['apiBaseUrl']),\n",
    "        data={\n",
    "            'username': config['username'],\n",
    "            'password': config['password'],\n",
    "            'database': config['database']\n",
    "        }\n",
    "    )\n",
    "    # Store the JWT auth token\n",
    "    config['auth_token'] = r.json()['token']\n",
    "    return config['auth_token']\n"
   ]
  },
  {
   "cell_type": "markdown",
   "metadata": {},
   "source": [
    "### Define cutout job submission function"
   ]
  },
  {
   "cell_type": "code",
   "execution_count": 6,
   "metadata": {},
   "outputs": [],
   "source": [
    "def submit_cutout_job():\n",
    "    \"\"\"Submits a query job and returns the complete server response which includes the job ID.\"\"\"\n",
    "\n",
    "    # Specify API request parameters\n",
    "    data = {\n",
    "        'db': config['database'],\n",
    "        'release': config['release'],\n",
    "        'xsize': 1.5,\n",
    "        'ysize': 0.5,\n",
    "        'make_fits': True,\n",
    "        'make_rgb_lupton': True,\n",
    "        'make_rgb_stiff': True,\n",
    "        'return_list': False,\n",
    "        'colors_fits': 'y',\n",
    "        'rgb_stiff_colors': 'riz',\n",
    "        'rgb_lupton_colors': 'izy',\n",
    "        'positions': positions,\n",
    "    }\n",
    "\n",
    "    # Submit job\n",
    "    r = requests.put(\n",
    "        '{}/job/cutout'.format(config['apiBaseUrl']),\n",
    "        data=data,\n",
    "        headers={'Authorization': 'Bearer {}'.format(config['auth_token'])}\n",
    "    )\n",
    "    response = r.json()\n",
    "    # print(json.dumps(response, indent=2))\n",
    "    \n",
    "    if response['status'] == 'ok':\n",
    "        job_id = response['jobid']\n",
    "        print('Job \"{}\" submitted.'.format(job_id))\n",
    "        # Refresh auth token\n",
    "        config['auth_token'] = response['new_token']\n",
    "    else:\n",
    "        job_id = None\n",
    "        print('Error submitting job: '.format(response['message']))\n",
    "    \n",
    "    return response\n"
   ]
  },
  {
   "cell_type": "markdown",
   "metadata": {},
   "source": [
    "### Define query job submission function"
   ]
  },
  {
   "cell_type": "code",
   "execution_count": 7,
   "metadata": {},
   "outputs": [],
   "source": [
    "def submit_query_job():\n",
    "    \"\"\"Submits a query job and returns the complete server response which includes the job ID.\"\"\"\n",
    "\n",
    "    # Specify API request parameters\n",
    "    data = {\n",
    "        'username': config['username'],\n",
    "        'db': config['database'],\n",
    "        'filename': 'results.csv',\n",
    "        'query': '''\n",
    "            SELECT\n",
    "            COADD_OBJECT_ID,RA,DEC,\n",
    "            MAG_AUTO_G G,\n",
    "            MAG_AUTO_R R,\n",
    "            WAVG_MAG_PSF_G G_PSF,\n",
    "            WAVG_MAG_PSF_R R_PSF\n",
    "            FROM DR1_MAIN\n",
    "            WHERE\n",
    "            RA between 323.36-0.12 and 323.36+0.12 and\n",
    "            DEC between -0.82-0.12 and -0.82+0.12 and\n",
    "            WAVG_SPREAD_MODEL_I + 3.0*WAVG_SPREADERR_MODEL_I < 0.005 and\n",
    "            WAVG_SPREAD_MODEL_I > -1 and\n",
    "            IMAFLAGS_ISO_G = 0 and\n",
    "            IMAFLAGS_ISO_R = 0 and\n",
    "            FLAGS_G < 4 and\n",
    "            FLAGS_R < 4\n",
    "        '''\n",
    "    }\n",
    "\n",
    "    # Submit job\n",
    "    r = requests.put(\n",
    "        '{}/job/query'.format(config['apiBaseUrl']),\n",
    "        data=data,\n",
    "        headers={'Authorization': 'Bearer {}'.format(config['auth_token'])}\n",
    "    )\n",
    "    response = r.json()\n",
    "    \n",
    "    if response['status'] == 'ok':\n",
    "        job_id = response['jobid']\n",
    "        print('Job \"{}\" submitted.'.format(job_id))\n",
    "        # Refresh auth token\n",
    "        config['auth_token'] = response['new_token']\n",
    "    else:\n",
    "        job_id = None\n",
    "        print('Error submitting job: '.format(response['message']))\n",
    "    \n",
    "    return response"
   ]
  },
  {
   "cell_type": "markdown",
   "metadata": {},
   "source": [
    "### Define job status function"
   ]
  },
  {
   "cell_type": "code",
   "execution_count": 8,
   "metadata": {},
   "outputs": [],
   "source": [
    "def get_job_status(job_id):\n",
    "    \"\"\"Returns the current status of the job identified by the unique job_id.\"\"\"\n",
    "\n",
    "    r = requests.post(\n",
    "        '{}/job/status'.format(config['apiBaseUrl']),\n",
    "        data={\n",
    "            'job-id': job_id\n",
    "        },\n",
    "        headers={'Authorization': 'Bearer {}'.format(config['auth_token'])}\n",
    "    )\n",
    "    response = r.json()\n",
    "    # Refresh auth token\n",
    "    config['auth_token'] = response['new_token']\n",
    "    # print(json.dumps(response, indent=2))\n",
    "    return response"
   ]
  },
  {
   "cell_type": "markdown",
   "metadata": {},
   "source": [
    "### Define job file downloader function"
   ]
  },
  {
   "cell_type": "code",
   "execution_count": 9,
   "metadata": {},
   "outputs": [],
   "source": [
    "def download_job_files(url, outdir):\n",
    "    os.makedirs(outdir, exist_ok=True)\n",
    "    r = requests.get('{}/json'.format(url))\n",
    "    for item in r.json():\n",
    "        if item['type'] == 'directory':\n",
    "            suburl = '{}/{}'.format(url, item['name'])\n",
    "            subdir = '{}/{}'.format(outdir, item['name'])\n",
    "            download_job_files(suburl, subdir)\n",
    "        elif item['type'] == 'file':\n",
    "            data = requests.get('{}/{}'.format(url, item['name']))\n",
    "            with open('{}/{}'.format(outdir, item['name']), \"wb\") as file:\n",
    "                file.write(data.content)\n",
    "\n",
    "    response = r.json()\n",
    "    return response"
   ]
  },
  {
   "cell_type": "markdown",
   "metadata": {},
   "source": [
    "### Define downloaded file lister"
   ]
  },
  {
   "cell_type": "code",
   "execution_count": 10,
   "metadata": {},
   "outputs": [],
   "source": [
    "def list_downloaded_files(download_dir):\n",
    "    for dirpath, dirnames, filenames in os.walk(download_dir):\n",
    "        for filename in filenames:\n",
    "            print(os.path.join(dirpath, filename))\n"
   ]
  },
  {
   "cell_type": "markdown",
   "metadata": {},
   "source": [
    "## Obtain authentication token"
   ]
  },
  {
   "cell_type": "code",
   "execution_count": 11,
   "metadata": {},
   "outputs": [
    {
     "name": "stdout",
     "output_type": "stream",
     "text": [
      "Logging in as user \"jtest\" (\"dessci\") and storing auth token...\n"
     ]
    }
   ],
   "source": [
    " # Authenticate and store the auth token for subsequent API calls\n",
    "try:\n",
    "    print('Logging in as user \"{}\" (\"{}\") and storing auth token...'.format(config['username'], config['database']))\n",
    "    login()\n",
    "except:\n",
    "    print('Login failed.')\n",
    "    sys.exit(1)"
   ]
  },
  {
   "cell_type": "markdown",
   "metadata": {},
   "source": [
    "## Submit jobs"
   ]
  },
  {
   "cell_type": "markdown",
   "metadata": {},
   "source": [
    "### Submit a query job to retrieve data from the DESSCI database"
   ]
  },
  {
   "cell_type": "code",
   "execution_count": 12,
   "metadata": {},
   "outputs": [
    {
     "name": "stdout",
     "output_type": "stream",
     "text": [
      "Submitting query job...\n",
      "Job \"634b41cd9d104c6b849e3b0b852e57ee\" submitted.\n",
      "New job submitted: 634b41cd9d104c6b849e3b0b852e57ee\n"
     ]
    }
   ],
   "source": [
    "job_type = 'query'\n",
    "\n",
    "print('Submitting query job...')\n",
    "response = submit_query_job()\n",
    "\n",
    "# Store the unique job ID for the new job\n",
    "job_id = response['jobid']\n",
    "print('New job submitted: {}'.format(job_id))\n"
   ]
  },
  {
   "cell_type": "markdown",
   "metadata": {},
   "source": [
    "### Poll the status of the job until it is complete"
   ]
  },
  {
   "cell_type": "code",
   "execution_count": 13,
   "metadata": {},
   "outputs": [
    {
     "name": "stdout",
     "output_type": "stream",
     "text": [
      "Polling status of job \"634b41cd9d104c6b849e3b0b852e57ee\"...\n",
      "Job completed with status: success\n"
     ]
    }
   ],
   "source": [
    "print('Polling status of job \"{}\"...'.format(job_id), end='')\n",
    "job_status = ''\n",
    "while job_status != 'ok':\n",
    "    # Fetch the current job status\n",
    "    response = get_job_status(job_id)\n",
    "    # Quit polling if there is an error getting a status update\n",
    "    if response['status'] != 'ok':\n",
    "        break\n",
    "    job_status = response['jobs'][0]['job_status']\n",
    "    if job_status == 'success' or job_status == 'failure':\n",
    "        print('\\nJob completed with status: {}'.format(job_status))\n",
    "        break\n",
    "    else:\n",
    "        # Display another dot to indicate that polling is still active\n",
    "        print('.', end='', sep='', flush=True)\n",
    "    time.sleep(3)\n",
    "\n",
    "# print('Complete job status details:')\n",
    "# print(json.dumps(response, indent=2))\n"
   ]
  },
  {
   "cell_type": "markdown",
   "metadata": {},
   "source": [
    "### Download the job output files"
   ]
  },
  {
   "cell_type": "code",
   "execution_count": 14,
   "metadata": {},
   "outputs": [
    {
     "name": "stdout",
     "output_type": "stream",
     "text": [
      "Files for job \"634b41cd9d104c6b849e3b0b852e57ee\" downloaded to \"./634b41cd9d104c6b849e3b0b852e57ee\"\n",
      "./634b41cd9d104c6b849e3b0b852e57ee/meta.json\n",
      "./634b41cd9d104c6b849e3b0b852e57ee/results.csv\n"
     ]
    }
   ],
   "source": [
    "# If successful, display job results\n",
    "if job_status == 'success':\n",
    "\n",
    "    # Construct the job file download URL\n",
    "    job_url = '{}/{}/{}/{}'.format(config['filesBaseUrl'], config['username'], job_type, job_id)\n",
    "    download_dir = './{}'.format(job_id)\n",
    "    # Download each raw job file sequentially to a subfolder of the working directory\n",
    "    download_job_files(job_url, download_dir)\n",
    "    print('Files for job \"{}\" downloaded to \"{}\"'.format(job_id, download_dir))\n",
    "    list_downloaded_files(download_dir)\n",
    "else:\n",
    "    print('The job \"{}\" failed.'.format(job_id))"
   ]
  },
  {
   "cell_type": "markdown",
   "metadata": {},
   "source": [
    "### Submit a cutout job to retrieve data from the DESSCI database"
   ]
  },
  {
   "cell_type": "code",
   "execution_count": 15,
   "metadata": {},
   "outputs": [
    {
     "name": "stdout",
     "output_type": "stream",
     "text": [
      "Submitting cutout job...\n",
      "Job \"534a3fbe88444be2a052bfb783b1b6f1\" submitted.\n",
      "New job submitted: 534a3fbe88444be2a052bfb783b1b6f1\n"
     ]
    }
   ],
   "source": [
    "job_type = 'cutout'\n",
    "\n",
    "print('Submitting cutout job...')\n",
    "response = submit_cutout_job()\n",
    "\n",
    "# Store the unique job ID for the new job\n",
    "job_id = response['jobid']\n",
    "print('New job submitted: {}'.format(job_id))"
   ]
  },
  {
   "cell_type": "markdown",
   "metadata": {},
   "source": [
    "### Poll the status of the job until it is complete"
   ]
  },
  {
   "cell_type": "code",
   "execution_count": 16,
   "metadata": {},
   "outputs": [
    {
     "name": "stdout",
     "output_type": "stream",
     "text": [
      "Polling status of job \"534a3fbe88444be2a052bfb783b1b6f1\"..............\n",
      "Job completed with status: success\n"
     ]
    }
   ],
   "source": [
    "print('Polling status of job \"{}\"...'.format(job_id), end='')\n",
    "job_status = ''\n",
    "while job_status != 'ok':\n",
    "    # Fetch the current job status\n",
    "    response = get_job_status(job_id)\n",
    "    # Quit polling if there is an error getting a status update\n",
    "    if response['status'] != 'ok':\n",
    "        break\n",
    "    job_status = response['jobs'][0]['job_status']\n",
    "    if job_status == 'success' or job_status == 'failure':\n",
    "        print('\\nJob completed with status: {}'.format(job_status))\n",
    "        break\n",
    "    else:\n",
    "        # Display another dot to indicate that polling is still active\n",
    "        print('.', end='', sep='', flush=True)\n",
    "    time.sleep(3)\n",
    "\n",
    "# print('Complete job status details:')\n",
    "# print(json.dumps(response, indent=2))\n"
   ]
  },
  {
   "cell_type": "markdown",
   "metadata": {},
   "source": [
    "### Download the job output files"
   ]
  },
  {
   "cell_type": "code",
   "execution_count": 18,
   "metadata": {},
   "outputs": [
   ],
   "source": [
    "# If successful, display job results\n",
    "if job_status == 'success':\n",
    "\n",
    "    # Download single compressed archive file containing all job files\n",
    "    job_archive_filename = '{}.tar.gz'.format(job_id)\n",
    "    job_archive_file_url = '{}/{}/{}/{}'.format(config['filesBaseUrl'], config['username'], 'cutout', job_archive_filename)\n",
    "    data = requests.get(job_archive_file_url)\n",
    "    with open('./{}'.format(job_archive_filename), \"wb\") as file:\n",
    "        file.write(data.content)\n",
    "    print('Job archive file \"{}\" downloaded.'.format(job_archive_filename))\n",
    "\n",
    "    # Construct the job file download URL\n",
    "    job_url = '{}/{}/{}/{}'.format(config['filesBaseUrl'], config['username'], job_type, job_id)\n",
    "    download_dir = './{}'.format(job_id)\n",
    "    # Download each raw job file sequentially to a subfolder of the working directory\n",
    "    download_job_files(job_url, download_dir)\n",
    "    print('Files for job \"{}\" downloaded to \"{}\"'.format(job_id, download_dir))\n",
    "    list_downloaded_files(download_dir)\n",
    "else:\n",
    "    print('The job \"{}\" failed.'.format(job_id))"
   ]
  }
 ],
 "metadata": {
  "kernelspec": {
   "display_name": "Python 3",
   "language": "python",
   "name": "python3"
  },
  "language_info": {
   "codemirror_mode": {
    "name": "ipython",
    "version": 3
   },
   "file_extension": ".py",
   "mimetype": "text/x-python",
   "name": "python",
   "nbconvert_exporter": "python",
   "pygments_lexer": "ipython3",
   "version": "3.8.4"
  }
 },
 "nbformat": 4,
 "nbformat_minor": 2
}
